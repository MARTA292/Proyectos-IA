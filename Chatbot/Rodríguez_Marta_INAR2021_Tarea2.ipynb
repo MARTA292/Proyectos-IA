{
 "cells": [
  {
   "cell_type": "markdown",
   "id": "ae169198",
   "metadata": {},
   "source": [
    "# Tarea calificada 2 INAR 2021-22 - Chatbot (Eliza)\n",
    "\n",
    "## Grupo INSO3A\n",
    "\n",
    "INSTRUCCIONES: Se trata de crear un chatbot propio usando el enfoque de Eliza, esto es, creando un vocabulario (como el doctor.txt) que incluya las keywords, los \"pres\", \"posts\", y los \"reasmbs\" para un contexto concreto.\n",
    "\n",
    "Se permiten utilizar plataformas de chatbots alternativas **siempre y cuando sean python y se incluya el gestor de diálogo -como el eliza.py- en la entrega**.\n",
    "\n",
    "Se valorará aparte la incorporación de funcionalidad de nltk (sinónimos de wordnet, capacidades de \"tagging\").\n",
    "\n",
    "## Contenido de la entrega:\n",
    "\n",
    "Además del código (.py y .txt) se debe entrega un notebook .ipynb con una ejecución del diálogo concreta -un caso de uso. Este valdrá para concluir si el sistema de diálogo es útil (o no) para un propósito concreto. Este diálogo puede estar extraído también de una prueba con alguien que no sea el desarrollador (proporcionando las instrucciones para un manejo mínimo del chatbot).\n",
    "\n",
    "## Calificación:\n",
    "\n",
    "- 5 puntos para el funcionamiento básico del chatbot. Solo con el funcionamiento para un vocabulario (como doctor.txt) concreto y eliza.py aseguran estos 5 puntos. También se debe incluir (importante) la prueba de caso de uso (diálogo).\n",
    "- 5 puntos adicionales para valorar alguno o varios de los siguientes criterios:\n",
    "    * Originalidad del contexto de diálogo elegido y calidad de las pruebas realizadas.\n",
    "    * Mejora de capacidades de NLP con nltk (u **otra librería python**)"
   ]
  },
  {
   "cell_type": "markdown",
   "id": "756d57ff",
   "metadata": {},
   "source": [
    "## Caso de uso \n",
    "\n",
    "A continuación se muestra una conversación con un chatboot que te elige la ropa más adecuada para tú día.\n",
    "Como podemos observar, el chatboot tiene la dificultad de que entiende ping-pong como pinypon."
   ]
  },
  {
   "cell_type": "code",
   "execution_count": 1,
   "id": "7fbbd506",
   "metadata": {},
   "outputs": [
    {
     "name": "stdout",
     "output_type": "stream",
     "text": [
      "Buenos dias. Soy una chatbot presumida y hoy te ayudare a elegir el conjunto perfecto para la ocasion.Â¿Que quiere llevar hoy?\n",
      "> chandal\n",
      "Â¿A que va a jugar?\n",
      "> jugar a ping-pong\n",
      "Â¿No es un poco mayor para jugar con las pinypon?\n",
      "> no\n",
      "Sinceramente creo que Vd. no necesita llevar un chandal\n",
      "> no tonto jugar a ping-pong\n",
      "Â¿No prefiere ponerse algo menos sport?\n",
      "> no\n",
      "Sinceramente creo que Vd. no necesita llevar un chandal\n",
      "> jugar a ping-pong\n",
      "Yo creo que lo mejor es algo casual como una bonita blusa y unos vaqueros. Â¿Le gusta?\n",
      "> no he dicho deme un chandal\n",
      "Sinceramente creo que Vd. no necesita llevar un chandal\n",
      "> no deme un chandal\n",
      "Sinceramente creo que Vd. no necesita llevar un chandal\n",
      "> pero yo quiero un chandal\n",
      "Â¿A que va a jugar?\n",
      "> jugar a ping-pong\n",
      "Â¿No es un poco mayor para jugar con las pinypon?\n",
      "> pesado, jugar a ping-pong\n",
      "Â¿No prefiere ponerse algo menos sport?\n",
      "> no\n",
      "Sinceramente creo que Vd. no necesita llevar un chandal\n",
      "> no\n",
      "Sinceramente creo que Vd. no necesita llevar un chandal\n",
      "> quiero jugar a ping-pong\n",
      "Yo creo que lo mejor es algo casual como una bonita blusa y unos vaqueros. Â¿Le gusta?\n",
      "> no\n",
      "Sinceramente creo que Vd. no necesita llevar un chandal\n",
      "> pesado he dicho que quiero jugar a ping-pong\n",
      "Â¿No es un poco mayor para jugar con las pinypon?\n",
      "> no, pinypon no ping-pong\n",
      "Sinceramente creo que Vd. no necesita llevar un chandal\n",
      "> pesado dame un chandal\n",
      "Â¿A que va a jugar?\n",
      "> jugar a ping-pong\n",
      "Â¿No prefiere ponerse algo menos sport?\n",
      "> no\n",
      "Sinceramente creo que Vd. no necesita llevar un chandal\n",
      "> pingpong\n",
      "Lo que me dice no me interesa.\n",
      "> ping-pongg\n",
      "De verdad que usted no dice nada que merezca la pena.\n",
      "> quiero un chandal\n",
      "Â¿A que va a jugar?\n",
      "> jugar a ping-pong\n",
      "Yo creo que lo mejor es algo casual como una bonita blusa y unos vaqueros. Â¿Le gusta?\n",
      "> no\n",
      "Sinceramente creo que Vd. no necesita llevar un chandal\n",
      "> deseo jugar a pingpong no a las pinypon\n",
      "Â¿No es un poco mayor para jugar con muniecos?\n",
      "> no\n",
      "Sinceramente creo que Vd. no necesita llevar un chandal\n",
      "> deseo jugar a pingpon no a las pinypon\n",
      "Sinceramente creo que Vd. no necesita llevar un chandal\n",
      "> deseo jugar a pingpong\n",
      "Â¿No prefiere ponerse algo menos sport?\n",
      "> no\n",
      "Sinceramente creo que Vd. no necesita llevar un chandal\n",
      "> deseo pingpong\n",
      "No querra decir que quiere jugar al ping-pong\n",
      "> si\n",
      "Ah, entonces creo que un chandal es una buena opcion. Â¿De que talla quiere el chandal?\n",
      "> mediano\n",
      "Aqui tiene, buena suerte en el partido\n",
      "> gracias\n",
      "Encantada de hablar con alguien tan simpatico. Vuelva a entrar cuando quiera.\n"
     ]
    }
   ],
   "source": [
    "import eliza\n",
    "\n",
    "eliza = eliza.Eliza()\n",
    "eliza.load('juego.txt')\n",
    "eliza.run()"
   ]
  },
  {
   "cell_type": "markdown",
   "id": "00420ffd",
   "metadata": {},
   "source": [
    "# Ampliación\n",
    "\n",
    "Mejora de capacidades de NLP con nltk (u otra librería python)"
   ]
  },
  {
   "cell_type": "code",
   "execution_count": 1,
   "id": "020f3ddd",
   "metadata": {},
   "outputs": [],
   "source": [
    "import io\n",
    "import random\n",
    "import string # to process standard python strings\n",
    "import warnings\n",
    "import numpy as np\n",
    "from sklearn.feature_extraction.text import TfidfVectorizer\n",
    "from sklearn.metrics.pairwise import cosine_similarity\n",
    "import warnings\n",
    "warnings.filterwarnings('ignore')"
   ]
  },
  {
   "cell_type": "code",
   "execution_count": 2,
   "id": "47b29718",
   "metadata": {},
   "outputs": [
    {
     "data": {
      "text/plain": [
       "True"
      ]
     },
     "execution_count": 2,
     "metadata": {},
     "output_type": "execute_result"
    }
   ],
   "source": [
    "import nltk\n",
    "from nltk.stem import WordNetLemmatizer\n",
    "nltk.download('popular', quiet=True) # for downloading packages\n",
    "#nltk.download('punkt') # first-time use only\n",
    "#nltk.download('wordnet') # first-time use only"
   ]
  },
  {
   "cell_type": "code",
   "execution_count": 3,
   "id": "c63cf056",
   "metadata": {},
   "outputs": [],
   "source": [
    "f=open('juego.txt','r',errors = 'ignore')\n",
    "raw=f.read()\n",
    "raw = raw.lower()# converts to lowercase"
   ]
  },
  {
   "cell_type": "code",
   "execution_count": 4,
   "id": "a17664ef",
   "metadata": {},
   "outputs": [],
   "source": [
    "sent_tokens = nltk.sent_tokenize(raw)# converts to list of sentences \n",
    "word_tokens = nltk.word_tokenize(raw)# converts to list of words"
   ]
  },
  {
   "cell_type": "code",
   "execution_count": 5,
   "id": "6a7476f4",
   "metadata": {},
   "outputs": [],
   "source": [
    "#Pre-processing\n",
    "\n",
    "lemmer = nltk.stem.WordNetLemmatizer()\n",
    "#WordNet is a semantically-oriented dictionary of English included in NLTK.\n",
    "def LemTokens(tokens):\n",
    "    return [lemmer.lemmatize(token) for token in tokens]\n",
    "remove_punct_dict = dict((ord(punct), None) for punct in string.punctuation)\n",
    "\n",
    "def LemNormalize(text):\n",
    "    return LemTokens(nltk.word_tokenize(text.lower().translate(remove_punct_dict)))"
   ]
  },
  {
   "cell_type": "code",
   "execution_count": 6,
   "id": "9c6a55ee",
   "metadata": {},
   "outputs": [],
   "source": [
    "#Keyword matching\n",
    "\n",
    "GREETING_INPUTS = (\"hola\", \"hi\", \"hey\", \"sip\", \"que hay\",\"ola\",)\n",
    "GREETING_RESPONSES = [\"hi\", \"hey\", \"*nods*\", \"Gracias por hablar conmigo\"]\n",
    "def greeting(sentence):\n",
    " \n",
    "    for word in sentence.split():\n",
    "        if word.lower() in GREETING_INPUTS:\n",
    "            return random.choice(GREETING_RESPONSES)"
   ]
  },
  {
   "cell_type": "code",
   "execution_count": 7,
   "id": "bcd02abc",
   "metadata": {},
   "outputs": [],
   "source": [
    "def response(user_response):\n",
    "    robo_response=''\n",
    "    sent_tokens.append(user_response)\n",
    "    TfidfVec = TfidfVectorizer(tokenizer=LemNormalize, stop_words='english')\n",
    "    tfidf = TfidfVec.fit_transform(sent_tokens)\n",
    "    vals = cosine_similarity(tfidf[-1], tfidf)\n",
    "    idx=vals.argsort()[0][-2]\n",
    "    flat = vals.flatten()\n",
    "    flat.sort()\n",
    "    req_tfidf = flat[-2]\n",
    "    if(req_tfidf==0):\n",
    "        robo_response=robo_response+\"Oops, lo siento no te entiendo!\"\n",
    "        return robo_response\n",
    "    else:\n",
    "        robo_response = robo_response+sent_tokens[idx]\n",
    "        return robo_response"
   ]
  },
  {
   "cell_type": "code",
   "execution_count": 8,
   "id": "442537d7",
   "metadata": {},
   "outputs": [
    {
     "name": "stdout",
     "output_type": "stream",
     "text": [
      "PIKA: Soy una chatbot presumida y hoy te ayudare a elegir el conjunto perfecto para la ocasion. Si quieres salir escribe bye\n",
      "chandal\n",
      "PIKA: no necesita un chandal\n",
      "    reasmb: escuchese por un momento, porque quiere llevar un chandal si va a jugar con muniecas\n",
      "    reasmb: de que talla quiere el chandal\n",
      "  decomp: no * deme un *\n",
      "    reasmb: sinceramente creo que vd.\n",
      "quiero un chandal\n",
      "PIKA: no necesita llevar un chandal\n",
      "    reasmb: escuchese por un momento, porque quiere llevar un chandal si va a jugar con muniecas\n",
      "    reasmb: de que talla quiere el chandal\n",
      "  decomp: no * quiero un *\n",
      "    reasmb: sinceramente creo que vd.\n",
      "jugar a ping-pong\n",
      "PIKA: decomp: * ping-pong *\n",
      "    reasmb: â¿no es un poco mayor para jugar con las pinypon?\n",
      "no\n",
      "PIKA: Oops, lo siento no te entiendo!\n",
      "no, jugar a ping-pong\n",
      "PIKA: decomp: * ping-pong *\n",
      "    reasmb: â¿no es un poco mayor para jugar con las pinypon?\n",
      "no deme un chandal\n",
      "PIKA: no necesita un chandal\n",
      "    reasmb: escuchese por un momento, porque quiere llevar un chandal si va a jugar con muniecas\n",
      "    reasmb: de que talla quiere el chandal\n",
      "  decomp: no * deme un *\n",
      "    reasmb: sinceramente creo que vd.\n",
      "deseo jugar a ping-pong no a pinypon\n",
      "PIKA: decomp: * ping-pong *\n",
      "    reasmb: â¿no es un poco mayor para jugar con las pinypon?\n",
      "no\n",
      "PIKA: Oops, lo siento no te entiendo!\n",
      "deseo jugar a pingpong\n",
      "PIKA: no necesita un chandal\n",
      "    reasmb: escuchese por un momento, porque quiere llevar un chandal si va a jugar con con las pinypon\n",
      "    reasmb: de que talla quiere el chandal\n",
      "    \n",
      "key: deseo 7\n",
      "  decomp: * pingpong *\n",
      "    reasmb: no querra decir que quiere jugar al ping-pong\n",
      "    key: si\n",
      "      decomp: *\n",
      "        reasmb: ah, entonces creo que un chandal es una buena opcion.\n",
      "si\n",
      "PIKA: no necesita un chandal\n",
      "    reasmb: escuchese por un momento, porque quiere llevar un chandal si va a jugar con con las pinypon\n",
      "    reasmb: de que talla quiere el chandal\n",
      "    \n",
      "key: deseo 7\n",
      "  decomp: * pingpong *\n",
      "    reasmb: no querra decir que quiere jugar al ping-pong\n",
      "    key: si\n",
      "      decomp: *\n",
      "        reasmb: ah, entonces creo que un chandal es una buena opcion.\n",
      "gracias\n",
      "PIKA: De nada!!\n"
     ]
    }
   ],
   "source": [
    "flag=True\n",
    "print(\"PIKA: Soy una chatbot presumida y hoy te ayudare a elegir el conjunto perfecto para la ocasion. Si quieres salir escribe bye\")\n",
    "while(flag==True):\n",
    "    user_response = input()\n",
    "    user_response=user_response.lower()\n",
    "    if(user_response!='bye'):\n",
    "        if(user_response=='thanks' or user_response=='gracias' ):\n",
    "            flag=False\n",
    "            print(\"PIKA: De nada!!\")\n",
    "        else:\n",
    "            if(greeting(user_response)!=None):\n",
    "                print(\"PIKA: \"+greeting(user_response))\n",
    "            else:\n",
    "                print(\"PIKA: \",end=\"\")\n",
    "                print(response(user_response))\n",
    "                sent_tokens.remove(user_response)\n",
    "    else:\n",
    "        flag=False\n",
    "        print(\"PIKA: Adiós! Cuidate.\")"
   ]
  }
 ],
 "metadata": {
  "kernelspec": {
   "display_name": "Python 3",
   "language": "python",
   "name": "python3"
  },
  "language_info": {
   "codemirror_mode": {
    "name": "ipython",
    "version": 3
   },
   "file_extension": ".py",
   "mimetype": "text/x-python",
   "name": "python",
   "nbconvert_exporter": "python",
   "pygments_lexer": "ipython3",
   "version": "3.8.8"
  }
 },
 "nbformat": 4,
 "nbformat_minor": 5
}
